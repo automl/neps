{
 "cells": [
  {
   "cell_type": "code",
   "execution_count": 14,
   "id": "88a3159d",
   "metadata": {},
   "outputs": [
    {
     "name": "stdout",
     "output_type": "stream",
     "text": [
      "['bayesian_optimization', 'pibo', 'random_search', 'grid_search', 'ifbo', 'successive_halving', 'hyperband', 'asha', 'async_hb', 'priorband']\n"
     ]
    }
   ],
   "source": [
    "from neps.optimizers import PredefinedOptimizers\n",
    "\n",
    "print(list(PredefinedOptimizers.keys()))"
   ]
  },
  {
   "cell_type": "code",
   "execution_count": 12,
   "id": "7936f599",
   "metadata": {},
   "outputs": [
    {
     "name": "stdout",
     "output_type": "stream",
     "text": [
      "[<function bayesian_optimization at 0x00000271F5A7FD80>, <function pibo at 0x00000271F5A7FE20>, <function random_search at 0x00000271F5A7F880>, <function grid_search at 0x00000271F5A7F920>]\n"
     ]
    }
   ],
   "source": [
    "print([\n",
    "    optimizer for optimizer in list(PredefinedOptimizers.values()) if not optimizer.supports.fidelity\n",
    "])"
   ]
  }
 ],
 "metadata": {
  "kernelspec": {
   "display_name": ".venv",
   "language": "python",
   "name": "python3"
  },
  "language_info": {
   "codemirror_mode": {
    "name": "ipython",
    "version": 3
   },
   "file_extension": ".py",
   "mimetype": "text/x-python",
   "name": "python",
   "nbconvert_exporter": "python",
   "pygments_lexer": "ipython3",
   "version": "3.12.8"
  }
 },
 "nbformat": 4,
 "nbformat_minor": 5
}
