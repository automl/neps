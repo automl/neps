{
 "cells": [
  {
   "cell_type": "code",
   "execution_count": 4,
   "id": "180fcb7f",
   "metadata": {},
   "outputs": [
    {
     "name": "stdout",
     "output_type": "stream",
     "text": [
      "Original pipeline:\n",
      "PipelineSpace SimpleSpace with parameters:\n",
      "\tint_param1 = Integer(1, 100, prior=50, prior_confidence=ConfidenceLevel.LOW)\n",
      "\tint_param2 = Integer(1, 100, prior=50, prior_confidence=ConfidenceLevel.MEDIUM)\n",
      "\tint_param3 = Integer(1, 100, prior=50, prior_confidence=ConfidenceLevel.HIGH)\n",
      "\n",
      "==================================================\n",
      "After adding new float:\n",
      "PipelineSpace SimpleSpace with parameters:\n",
      "\tint_param1 = Integer(1, 100, prior=50, prior_confidence=ConfidenceLevel.LOW)\n",
      "\tint_param2 = Integer(1, 100, prior=50, prior_confidence=ConfidenceLevel.MEDIUM)\n",
      "\tint_param3 = Integer(1, 100, prior=50, prior_confidence=ConfidenceLevel.HIGH)\n",
      "\tparam_4 = Float(0.0, 1.0)\n",
      "\n",
      "==================================================\n",
      "After removing 'int_param1':\n",
      "PipelineSpace SimpleSpace with parameters:\n",
      "\tint_param2 = Integer(1, 100, prior=50, prior_confidence=ConfidenceLevel.MEDIUM)\n",
      "\tint_param3 = Integer(1, 100, prior=50, prior_confidence=ConfidenceLevel.HIGH)\n",
      "\tparam_4 = Float(0.0, 1.0)\n",
      "\n",
      "==================================================\n",
      "After adding 'int_param1' twice and once with different upper:\n",
      "Error occurred: A different parameter with the name 'int_param1' already exists in the pipeline:\n",
      " Float(0.0, 1.0)\n",
      " Float(0.0, 2.0)\n",
      "PipelineSpace SimpleSpace with parameters:\n",
      "\tint_param2 = Integer(1, 100, prior=50, prior_confidence=ConfidenceLevel.MEDIUM)\n",
      "\tint_param3 = Integer(1, 100, prior=50, prior_confidence=ConfidenceLevel.HIGH)\n",
      "\tparam_4 = Float(0.0, 1.0)\n",
      "\tint_param1 = Float(0.0, 1.0)\n",
      "\n",
      "==================================================\n",
      "After removing 'int_param1':\n",
      "PipelineSpace SimpleSpace with parameters:\n",
      "\tint_param2 = Integer(1, 100, prior=50, prior_confidence=ConfidenceLevel.MEDIUM)\n",
      "\tint_param3 = Integer(1, 100, prior=50, prior_confidence=ConfidenceLevel.HIGH)\n",
      "\tparam_4 = Float(0.0, 1.0)\n"
     ]
    }
   ],
   "source": [
    "import numpy as np\n",
    "import torch\n",
    "import torch.nn as nn\n",
    "import neps\n",
    "from neps.space.neps_spaces.parameters import PipelineSpace, Operation, Categorical, Resampled\n",
    "\n",
    "# Define the NEPS space for the neural network architecture\n",
    "class SimpleSpace(PipelineSpace):\n",
    "    int_param1 = neps.Integer(1,100, prior=50, prior_confidence=\"low\")\n",
    "    int_param2 = neps.Integer(1,100, prior=50, prior_confidence=\"medium\")\n",
    "    int_param3 = neps.Integer(1,100, prior=50, prior_confidence=\"high\")\n",
    "\n",
    "class OtherSpace(PipelineSpace):\n",
    "    int_param2 = neps.Integer(1,100, prior=50, prior_confidence=\"medium\", log=False)\n",
    "\n",
    "# Test operations\n",
    "pipeline = SimpleSpace()\n",
    "print(\"Original pipeline:\")\n",
    "print(pipeline)\n",
    "\n",
    "print(\"\\n\" + \"=\"*50)\n",
    "print(\"After adding new float:\")\n",
    "pipeline=pipeline+neps.Float(0.0, 1.0) \n",
    "print(pipeline)\n",
    "\n",
    "print(\"\\n\" + \"=\"*50)\n",
    "print(\"After removing 'int_param1':\")\n",
    "pipeline=pipeline.remove(\"int_param1\") \n",
    "print(pipeline)\n",
    "\n",
    "print(\"\\n\" + \"=\"*50)\n",
    "print(\"After adding 'int_param1' twice and once with different upper:\")\n",
    "pipeline=pipeline.add(neps.Float(0.0, 1.0), \"int_param1\")\n",
    "pipeline=pipeline.add(neps.Float(0.0, 1.0), \"int_param1\")\n",
    "try:\n",
    "    pipeline=pipeline.add(neps.Float(0.0, 2.0), \"int_param1\")\n",
    "except ValueError as e:\n",
    "    print(f\"Error occurred: {e}\")\n",
    "print(pipeline)\n",
    "\n",
    "print(\"\\n\" + \"=\"*50)\n",
    "print(\"After removing 'int_param1':\")\n",
    "pipeline=pipeline.remove(\"int_param1\")\n",
    "print(pipeline)"
   ]
  },
  {
   "cell_type": "code",
   "execution_count": null,
   "id": "efd7be91",
   "metadata": {},
   "outputs": [],
   "source": [
    "# Test the add method as well\n",
    "print(\"Testing add method...\")\n",
    "result_add = fresh_pipeline.add(neps.Float(0, 1), \"new_float\")\n",
    "print(f\"Add returned same object? {result_add is fresh_pipeline}\")\n",
    "\n",
    "print(\"\\nAfter adding new_float:\")\n",
    "print(fresh_pipeline)\n",
    "\n",
    "# Test method chaining\n",
    "print(\"\\nTesting method chaining...\")\n",
    "fresh_pipeline.remove(\"param_b\").add(neps.Categorical([\"x\", \"y\", \"z\"]), \"new_cat\")\n",
    "print(\"After chaining remove + add:\")\n",
    "print(fresh_pipeline)"
   ]
  },
  {
   "cell_type": "code",
   "execution_count": 1,
   "id": "84c7766b",
   "metadata": {},
   "outputs": [
    {
     "name": "stderr",
     "output_type": "stream",
     "text": [
      "c:\\Users\\Amega\\Git\\neps\\.venv\\Lib\\site-packages\\tqdm\\auto.py:21: TqdmWarning: IProgress not found. Please update jupyter and ipywidgets. See https://ipywidgets.readthedocs.io/en/stable/user_install.html\n",
      "  from .autonotebook import tqdm as notebook_tqdm\n"
     ]
    },
    {
     "name": "stdout",
     "output_type": "stream",
     "text": [
      "PipelineSpace SimpleSpace with parameters:\n",
      "\tint_param2 = Integer(1, 100, log, prior=50, prior_confidence=ConfidenceLevel.MEDIUM)\n",
      "\tcategorical_param = Categorical(choices=('a', 'b', 'c'), prior=0, prior_confidence=ConfidenceLevel.HIGH)\n",
      "\tfloat_param = Float(0, 1.0, prior=0.5, prior_confidence=ConfidenceLevel.HIGH)\n",
      "\tfidelity_param = Fidelity(Integer(1, 10))\n"
     ]
    },
    {
     "name": "stderr",
     "output_type": "stream",
     "text": [
      "C:\\Users\\Amega\\Git\\neps\\neps\\space\\domain.py:287: UserWarning: Decoded value is above the upper bound of the domain. Clipping to the upper bound. This is likely due floating point precision in `torch.exp(x)` with torch.float64.\n",
      "  warnings.warn(  # noqa: B028\n"
     ]
    }
   ],
   "source": [
    "import neps\n",
    "from neps.space.neps_spaces.parameters import PipelineSpace, Operation, Categorical, Resampled\n",
    "from neps.space.neps_spaces import sampling\n",
    "from neps.space.neps_spaces import neps_space\n",
    "from functools import partial\n",
    "from pprint import pprint\n",
    "\n",
    "# Define the NEPS space for the neural network architecture\n",
    "class SimpleSpace(PipelineSpace):\n",
    "    int_param2 = neps.Integer(1,100, prior=50, log=True, prior_confidence=\"medium\")\n",
    "    categorical_param = Categorical((\"a\", \"b\", \"c\"), prior=0, prior_confidence=\"high\")\n",
    "    float_param = neps.Float(0, 1.0, prior=0.5, prior_confidence=\"high\")\n",
    "    fidelity_param = neps.Fidelity(neps.Integer(1, 10))\n",
    "\n",
    "old_space = neps.SearchSpace({\n",
    "    \"int_param2\": neps.HPOInteger(1,100, log=True, prior=50, prior_confidence=\"medium\"),\n",
    "    \"categorical_param\": neps.HPOCategorical([\"a\", \"b\", \"c\"], prior=\"a\", prior_confidence=\"high\"),\n",
    "    \"float_param\": neps.HPOFloat(0, 1.0, prior=0.5, prior_confidence=\"high\"),\n",
    "    \"fidelity_param\": neps.HPOInteger(1, 10,is_fidelity=True)\n",
    "})\n",
    "pipeline = SimpleSpace()\n",
    "converted_space = neps.space.neps_spaces.neps_space.convert_classic_to_neps_search_space(old_space)\n",
    "\n",
    "# for name in converted_space.get_attrs().keys():\n",
    "#     param = converted_space.get_attrs()[name]\n",
    "#     print(\"\\n Converted\",name)\n",
    "#     if isinstance(param, neps.Fidelity):\n",
    "#         print(param._domain.get_attrs())\n",
    "#     else:\n",
    "#         pprint(param.get_attrs())\n",
    "\n",
    "#     param = pipeline.get_attrs()[name]\n",
    "#     print(\"\\n Pipeline\",name)\n",
    "#     if isinstance(param, neps.Fidelity):\n",
    "#         print(param._domain.get_attrs())\n",
    "#     else:\n",
    "#         pprint(param.get_attrs())\n",
    "\n",
    "print(pipeline)\n"
   ]
  },
  {
   "cell_type": "code",
   "execution_count": null,
   "id": "59280930",
   "metadata": {},
   "outputs": [
    {
     "name": "stderr",
     "output_type": "stream",
     "text": [
      "INFO:neps.api:Starting neps.run using root directory results/fidelity_ignore_test\n",
      "WARNING:neps.optimizers.algorithms:Warning: No priors are defined in the search space, priorband will sample uniformly. Consider using hyperband instead.\n",
      "INFO:neps.runtime:Overwriting optimization directory 'results\\fidelity_ignore_test' as `overwrite_optimization_dir=True`.\n",
      "INFO:neps.runtime:Launching NePS\n",
      "INFO:neps.runtime:Worker '20016-2025-07-11T18:31:10.131893+00:00' sampled new trial: 1_0.\n",
      "INFO:neps.state.pipeline_eval:Successful evaluation of '1_0': 68.\n",
      "INFO:neps.runtime:Worker '20016-2025-07-11T18:31:10.131893+00:00' evaluated trial: 1_0 as State.SUCCESS.\n",
      "INFO:neps.runtime:The total number of evaluations has reached the maximum allowed of `self.settings.max_evaluations_total=1`. To allow more evaluations, increase this value or use a different stopping criterion.\n",
      "INFO:neps.api:The post run summary has been created, which is a csv file with the output of all data in the run.\n",
      "You can find a full dataframe at: C:\\Users\\Amega\\Git\\neps\\neps_examples\\basic_usage\\results\\fidelity_ignore_test\\summary\\full.csv.\n",
      "You can find a quick summary at: C:\\Users\\Amega\\Git\\neps\\neps_examples\\basic_usage\\results\\fidelity_ignore_test\\summary\\short.csv.\n"
     ]
    },
    {
     "name": "stdout",
     "output_type": "stream",
     "text": [
      "# Configs: 1\n",
      "\n",
      "    success: 1\n",
      "\n",
      "# Best Found (config 1_0):\n",
      "\n",
      "    objective_to_minimize: 68.0\n",
      "    config: int_param1\n",
      "        (68)\n",
      "        \t01 :: 68\n",
      "    config: fidelity_param\n",
      "        (1)\n",
      "        \t01 :: 1\n",
      "    path: C:\\Users\\Amega\\Git\\neps\\neps_examples\\basic_usage\\results\\fidelity_ignore_test\\configs\\config_1_0\n"
     ]
    }
   ],
   "source": [
    "import numpy as np\n",
    "import torch\n",
    "import torch.nn as nn\n",
    "import neps\n",
    "from neps.space.neps_spaces.parameters import PipelineSpace, Operation, Categorical, Resampled\n",
    "from neps.space.neps_spaces import sampling\n",
    "from neps.space.neps_spaces import neps_space\n",
    "from functools import partial\n",
    "\n",
    "# Define the NEPS space for the neural network architecture\n",
    "class SimpleSpace(PipelineSpace):\n",
    "    int_param1 = neps.Integer(1,100)#, prior=50, prior_confidence=\"low\")\n",
    "    # int_param2 = neps.Integer(1,100, prior=50, prior_confidence=\"medium\")\n",
    "    # int_param3 = neps.Integer(1,100, prior=50, prior_confidence=\"high\")\n",
    "    # int_param4 = neps.Integer(1,3, prior=2, prior_confidence=\"low\")\n",
    "    # categorical_param = Categorical((\"a\", \"b\", int_param1))\n",
    "    # float_param = neps.Float(0, 1.0, prior=0.5, prior_confidence=\"high\")\n",
    "    fidelity_param = neps.Fidelity(neps.Integer(1, 10))\n",
    "\n",
    "# Sampling and printing one random configuration of the pipeline\n",
    "pipeline = SimpleSpace()\n",
    "\n",
    "def evaluate_pipeline(int_param1,**_args):#, fidelity_param, categorical_param):\n",
    "    return int_param1\n",
    "\n",
    "for i in range(1):\n",
    "    # resolved_pipeline, resolution_context = neps_space.resolve(pipeline,domain_sampler=sampler)\n",
    "    new_rs=neps.algorithms.NePSRandomSearch(pipeline,ignore_fidelity=True)\n",
    "    # old_rs=neps.algorithms.random_search(pipeline,ignore_fidelity=True)\n",
    "    # print(new_rs({},None))\n",
    "\n",
    "    # s = resolved_pipeline.int_param1\n",
    "    # print(resolved_pipeline.get_attrs())\n",
    "    import logging\n",
    "\n",
    "    logging.basicConfig(level=logging.INFO)\n",
    "    neps.run(evaluate_pipeline,pipeline,root_directory=\"results/fidelity_ignore_test\",overwrite_root_directory=True,optimizer=neps.algorithms.neps_priorband, evaluations_to_spend=1)\n",
    "    neps.status(\"results/fidelity_ignore_test\",print_summary=True, pipeline_space_variables=(SimpleSpace(),[\"int_param1\", \"fidelity_param\"]))"
   ]
  },
  {
   "cell_type": "code",
   "execution_count": 2,
   "id": "94af7ec4",
   "metadata": {},
   "outputs": [
    {
     "name": "stdout",
     "output_type": "stream",
     "text": [
      "(<neps.space.neps_spaces.parameters.Resampled object at 0x000001CD3B6B57F0>,)\n",
      "(<neps.space.neps_spaces.parameters.Resampled object at 0x000001CD3B6B57F0>,)\n"
     ]
    }
   ],
   "source": [
    "from neps.space.neps_spaces import parameters, sampling, neps_space\n",
    "\n",
    "class TestSpace(parameters.PipelineSpace):\n",
    "    cat_var = parameters.Categorical((\"A\",\"B\",\"C\",\"D\",\"E\",\"F\",\"G\",\"H\",\"I\",\"J\"))\n",
    "    cat_var_choice_2 = parameters.Categorical(\n",
    "        (\n",
    "            (\n",
    "                parameters.Resampled(cat_var),\n",
    "            ),\n",
    "        )\n",
    "    )\n",
    "    reresampled_var = parameters.Resampled(cat_var_choice_2)\n",
    "    reresampled_var2 = parameters.Resampled(cat_var_choice_2)\n",
    "\n",
    "random_sampler = sampling.RandomSampler({})\n",
    "sampler = sampling.PriorOrFallbackSampler(fallback_sampler=random_sampler, always_use_prior=False)\n",
    "\n",
    "resolved_pipeline, resolution_context = neps_space.resolve(TestSpace(),domain_sampler=random_sampler)\n",
    "print(resolved_pipeline.reresampled_var)\n",
    "print(resolved_pipeline.reresampled_var2)"
   ]
  }
 ],
 "metadata": {
  "kernelspec": {
   "display_name": "neural-pipeline-search (3.13.1)",
   "language": "python",
   "name": "python3"
  },
  "language_info": {
   "codemirror_mode": {
    "name": "ipython",
    "version": 3
   },
   "file_extension": ".py",
   "mimetype": "text/x-python",
   "name": "python",
   "nbconvert_exporter": "python",
   "pygments_lexer": "ipython3",
   "version": "3.13.1"
  }
 },
 "nbformat": 4,
 "nbformat_minor": 5
}
